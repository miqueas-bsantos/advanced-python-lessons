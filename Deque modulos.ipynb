{
 "cells": [
  {
   "cell_type": "code",
   "execution_count": 4,
   "id": "74b57599",
   "metadata": {},
   "outputs": [],
   "source": [
    "# Deque is as Queue, it follow the property \"FIFO\"\n",
    "from collections import deque\n",
    "\n",
    "queue = deque(maxlen=5)\n",
    "queue.append(1)\n",
    "queue.append(2)\n",
    "queue.append(3)\n",
    "queue.append(4)\n",
    "queue.append(5)\n",
    "queue.append(6)"
   ]
  },
  {
   "cell_type": "code",
   "execution_count": 6,
   "id": "7076fe6a",
   "metadata": {},
   "outputs": [
    {
     "data": {
      "text/plain": [
       "deque([2, 3, 4, 5, 6])"
      ]
     },
     "execution_count": 6,
     "metadata": {},
     "output_type": "execute_result"
    }
   ],
   "source": [
    "queue"
   ]
  },
  {
   "cell_type": "code",
   "execution_count": 17,
   "id": "68f85243",
   "metadata": {},
   "outputs": [
    {
     "data": {
      "text/plain": [
       "deque([1, 2, 3, 4, 5])"
      ]
     },
     "execution_count": 17,
     "metadata": {},
     "output_type": "execute_result"
    }
   ],
   "source": [
    "queue_2 = deque(maxlen=6)\n",
    "queue_2.append(1)\n",
    "queue_2.append(2)\n",
    "queue_2.append(3)\n",
    "queue_2.append(4)\n",
    "queue_2.append(5)\n",
    "queue_2"
   ]
  },
  {
   "cell_type": "code",
   "execution_count": 16,
   "id": "58228872",
   "metadata": {},
   "outputs": [
    {
     "name": "stdout",
     "output_type": "stream",
     "text": [
      "deque([0, 1, 2, 3, 4, 5], maxlen=6)\n",
      "deque([1, 2, 3, 4, 5], maxlen=6)\n"
     ]
    },
    {
     "data": {
      "text/plain": [
       "deque([1, 2, 4, 5])"
      ]
     },
     "execution_count": 16,
     "metadata": {},
     "output_type": "execute_result"
    }
   ],
   "source": [
    "queue_2.appendleft(0)\n",
    "print(queue_2)\n",
    "queue_2.popleft()\n",
    "print(queue_2)\n",
    "queue_2.remove(3)\n",
    "queue_2"
   ]
  },
  {
   "cell_type": "code",
   "execution_count": 14,
   "id": "ac579a5d",
   "metadata": {},
   "outputs": [
    {
     "data": {
      "text/plain": [
       "deque([1, 2, 4, 5])"
      ]
     },
     "execution_count": 14,
     "metadata": {},
     "output_type": "execute_result"
    }
   ],
   "source": []
  },
  {
   "cell_type": "code",
   "execution_count": null,
   "id": "f9156f71",
   "metadata": {},
   "outputs": [],
   "source": []
  }
 ],
 "metadata": {
  "kernelspec": {
   "display_name": "Python 3",
   "language": "python",
   "name": "python3"
  },
  "language_info": {
   "codemirror_mode": {
    "name": "ipython",
    "version": 3
   },
   "file_extension": ".py",
   "mimetype": "text/x-python",
   "name": "python",
   "nbconvert_exporter": "python",
   "pygments_lexer": "ipython3",
   "version": "3.7.14"
  },
  "vscode": {
   "interpreter": {
    "hash": "fd69f43f58546b570e94fd7eba7b65e6bcc7a5bbc4eab0408017d18902915d69"
   }
  }
 },
 "nbformat": 4,
 "nbformat_minor": 5
}
