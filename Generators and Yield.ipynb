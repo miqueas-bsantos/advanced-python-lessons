{
 "cells": [
  {
   "cell_type": "code",
   "execution_count": 10,
   "id": "2d335003",
   "metadata": {},
   "outputs": [],
   "source": [
    "# lazy evaluatin, only works when is called\n",
    "generator = (letter for letter in 'hello world!')"
   ]
  },
  {
   "cell_type": "code",
   "execution_count": 11,
   "id": "fcac07e4",
   "metadata": {},
   "outputs": [
    {
     "name": "stdout",
     "output_type": "stream",
     "text": [
      "h\n",
      "e\n",
      "l\n",
      "l\n",
      "o\n",
      " \n",
      "w\n",
      "o\n",
      "r\n",
      "l\n",
      "d\n",
      "!\n"
     ]
    }
   ],
   "source": [
    "print(generator.__next__())\n",
    "print(generator.__next__())\n",
    "print(generator.__next__())\n",
    "print(generator.__next__())\n",
    "print(generator.__next__())\n",
    "print(generator.__next__())\n",
    "print(next(generator))\n",
    "print(next(generator))\n",
    "print(next(generator))\n",
    "print(next(generator))\n",
    "print(next(generator))\n",
    "print(next(generator))"
   ]
  },
  {
   "cell_type": "code",
   "execution_count": 16,
   "id": "befe92fb",
   "metadata": {},
   "outputs": [
    {
     "name": "stdout",
     "output_type": "stream",
     "text": [
      "<generator object generator at 0x7f8790de0900>\n"
     ]
    }
   ],
   "source": [
    "# Yield usually return generators e.g\n",
    "def generator():\n",
    "    for i in range(5):\n",
    "        yield i\n",
    "\n",
    "g = generator()\n",
    "print(g)"
   ]
  },
  {
   "cell_type": "code",
   "execution_count": 17,
   "id": "3a3cf9b7",
   "metadata": {},
   "outputs": [
    {
     "name": "stdout",
     "output_type": "stream",
     "text": [
      "0\n",
      "1\n",
      "2\n",
      "3\n",
      "4\n"
     ]
    }
   ],
   "source": [
    "print(next(g))\n",
    "print(g.__next__())\n",
    "print(next(g))\n",
    "print(next(g))\n",
    "print(next(g))"
   ]
  },
  {
   "cell_type": "code",
   "execution_count": null,
   "id": "bf2b664f",
   "metadata": {},
   "outputs": [],
   "source": []
  }
 ],
 "metadata": {
  "kernelspec": {
   "display_name": "Python 3 (ipykernel)",
   "language": "python",
   "name": "python3"
  },
  "language_info": {
   "codemirror_mode": {
    "name": "ipython",
    "version": 3
   },
   "file_extension": ".py",
   "mimetype": "text/x-python",
   "name": "python",
   "nbconvert_exporter": "python",
   "pygments_lexer": "ipython3",
   "version": "3.10.6"
  }
 },
 "nbformat": 4,
 "nbformat_minor": 5
}
