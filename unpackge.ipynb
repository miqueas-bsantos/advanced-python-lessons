{
 "cells": [
  {
   "cell_type": "code",
   "execution_count": 5,
   "id": "151d8758",
   "metadata": {},
   "outputs": [],
   "source": [
    "# declaring variables\n",
    "tuples = (\"Miqueas\", \"Talita\", \"Adilson\")\n",
    "lists = [17, 25, 31]"
   ]
  },
  {
   "cell_type": "code",
   "execution_count": 6,
   "id": "c13540a0",
   "metadata": {},
   "outputs": [
    {
     "name": "stdout",
     "output_type": "stream",
     "text": [
      "tuples: Miqueas Talita Adilson\n",
      "lists: 17 25 31\n"
     ]
    }
   ],
   "source": [
    "# unpack tuples\n",
    "m, t, a = tuples\n",
    "print(\"tuples:\", m, t, a)\n",
    "\n",
    "# unpack lists\n",
    "m1, t2, a3 = lists\n",
    "print(\"lists:\", m1, t2, a3)"
   ]
  },
  {
   "cell_type": "code",
   "execution_count": 7,
   "id": "600ea075",
   "metadata": {},
   "outputs": [
    {
     "name": "stdout",
     "output_type": "stream",
     "text": [
      "tuples: Miqueas\n",
      "lists: 31\n"
     ]
    }
   ],
   "source": [
    "# discart values\n",
    "m, *_ = tuples\n",
    "print(\"tuples:\", m)\n",
    "\n",
    "*_, a3 = lists\n",
    "print(\"lists:\", a3)"
   ]
  },
  {
   "cell_type": "code",
   "execution_count": 10,
   "id": "c77a5288",
   "metadata": {},
   "outputs": [
    {
     "data": {
      "text/plain": [
       "1"
      ]
     },
     "execution_count": 10,
     "metadata": {},
     "output_type": "execute_result"
    }
   ],
   "source": [
    "# work with any iterate objects\n",
    "a, *_ = {1, 2, 3}\n",
    "a"
   ]
  },
  {
   "cell_type": "code",
   "execution_count": 12,
   "id": "f88f38c0",
   "metadata": {},
   "outputs": [
    {
     "name": "stdout",
     "output_type": "stream",
     "text": [
      "Miqueas Debora\n"
     ]
    }
   ],
   "source": [
    "# get the first and last item of list\n",
    "tuples = (\"Miqueas\", \"Talita\", \"Adilson\", \"Debora\")\n",
    "first, *_, last = tuples\n",
    "print(first, last)"
   ]
  }
 ],
 "metadata": {
  "kernelspec": {
   "display_name": "Python 3 (ipykernel)",
   "language": "python",
   "name": "python3"
  },
  "language_info": {
   "codemirror_mode": {
    "name": "ipython",
    "version": 3
   },
   "file_extension": ".py",
   "mimetype": "text/x-python",
   "name": "python",
   "nbconvert_exporter": "python",
   "pygments_lexer": "ipython3",
   "version": "3.10.6"
  }
 },
 "nbformat": 4,
 "nbformat_minor": 5
}
