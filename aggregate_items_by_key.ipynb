{
 "cells": [
  {
   "cell_type": "code",
   "execution_count": 75,
   "id": "27dc3b3e",
   "metadata": {},
   "outputs": [],
   "source": [
    "from operator import itemgetter\n",
    "from itertools import groupby\n",
    "\n",
    "languagens = [\n",
    "    ('Python', 20), ('Java', 50), ('Java', 20), ('Python', 30),\n",
    "    ('C', 10), ('C', 20), ('NodeJs', 5)\n",
    "]\n"
   ]
  },
  {
   "cell_type": "code",
   "execution_count": 76,
   "id": "3fb0e611",
   "metadata": {},
   "outputs": [
    {
     "data": {
      "text/plain": [
       "[('Python', <itertools._grouper at 0x7f4644269b10>),\n",
       " ('Java', <itertools._grouper at 0x7f4644269ae0>),\n",
       " ('Python', <itertools._grouper at 0x7f464426a4d0>),\n",
       " ('C', <itertools._grouper at 0x7f464426a470>),\n",
       " ('NodeJs', <itertools._grouper at 0x7f4644269d80>)]"
      ]
     },
     "execution_count": 76,
     "metadata": {},
     "output_type": "execute_result"
    }
   ],
   "source": [
    "# this funtion will aggregate values with correspondent key\n",
    "list(groupby(languagens, key=itemgetter(0)))"
   ]
  },
  {
   "cell_type": "code",
   "execution_count": 77,
   "id": "8a09b3c2",
   "metadata": {},
   "outputs": [
    {
     "data": {
      "text/plain": [
       "[('C', 10),\n",
       " ('C', 20),\n",
       " ('Java', 50),\n",
       " ('Java', 20),\n",
       " ('NodeJs', 5),\n",
       " ('Python', 20),\n",
       " ('Python', 30)]"
      ]
     },
     "execution_count": 77,
     "metadata": {},
     "output_type": "execute_result"
    }
   ],
   "source": [
    "languagens.sort(key=itemgetter(0))\n",
    "languagens"
   ]
  },
  {
   "cell_type": "code",
   "execution_count": 78,
   "id": "58a3cd81",
   "metadata": {},
   "outputs": [
    {
     "data": {
      "text/plain": [
       "{'C': [10, 20], 'Java': [20, 50], 'NodeJs': [5], 'Python': [20, 30]}"
      ]
     },
     "execution_count": 78,
     "metadata": {},
     "output_type": "execute_result"
    }
   ],
   "source": [
    "{key: sorted(map(itemgetter(1), value)) for key, value in \\\n",
    " groupby(languagens, key=itemgetter(0))\n",
    "}"
   ]
  },
  {
   "cell_type": "code",
   "execution_count": 84,
   "id": "4c5be13b",
   "metadata": {},
   "outputs": [
    {
     "name": "stdout",
     "output_type": "stream",
     "text": [
      "C <itertools._grouper object at 0x7f4644263310>\n",
      "[10, 20]\n",
      "Java <itertools._grouper object at 0x7f46442620b0>\n",
      "[20, 50]\n",
      "NodeJs <itertools._grouper object at 0x7f4644263310>\n",
      "[5]\n",
      "Python <itertools._grouper object at 0x7f46442620b0>\n",
      "[20, 30]\n"
     ]
    }
   ],
   "source": [
    "# iterante aggretate result by groupby function\n",
    "for key, value in groupby(languagens, key=itemgetter(0)):\n",
    "    print(key, value)\n",
    "    # return a sorted list with key and aggregate value\n",
    "    item = sorted(map(itemgetter(1), value))\n",
    "    print(item)"
   ]
  },
  {
   "cell_type": "code",
   "execution_count": null,
   "id": "54b12258",
   "metadata": {},
   "outputs": [],
   "source": []
  }
 ],
 "metadata": {
  "kernelspec": {
   "display_name": "Python 3 (ipykernel)",
   "language": "python",
   "name": "python3"
  },
  "language_info": {
   "codemirror_mode": {
    "name": "ipython",
    "version": 3
   },
   "file_extension": ".py",
   "mimetype": "text/x-python",
   "name": "python",
   "nbconvert_exporter": "python",
   "pygments_lexer": "ipython3",
   "version": "3.10.6"
  }
 },
 "nbformat": 4,
 "nbformat_minor": 5
}
