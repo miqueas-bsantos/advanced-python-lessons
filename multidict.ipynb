{
 "cells": [
  {
   "cell_type": "code",
   "execution_count": 3,
   "id": "f1ae7626",
   "metadata": {},
   "outputs": [
    {
     "name": "stdout",
     "output_type": "stream",
     "text": [
      "Dictionary:\n",
      "{1: 'Geeks', 2: 'For', 3: 'Geeks'}\n"
     ]
    },
    {
     "ename": "KeyError",
     "evalue": "4",
     "output_type": "error",
     "traceback": [
      "\u001b[0;31m---------------------------------------------------------------------------\u001b[0m",
      "\u001b[0;31mKeyError\u001b[0m                                  Traceback (most recent call last)",
      "Cell \u001b[0;32mIn[3], line 8\u001b[0m\n\u001b[1;32m      6\u001b[0m \u001b[38;5;28mprint\u001b[39m(\u001b[38;5;124m\"\u001b[39m\u001b[38;5;124mDictionary:\u001b[39m\u001b[38;5;124m\"\u001b[39m) \n\u001b[1;32m      7\u001b[0m \u001b[38;5;28mprint\u001b[39m(Dict)\n\u001b[0;32m----> 8\u001b[0m \u001b[38;5;28mprint\u001b[39m(\u001b[43mDict\u001b[49m\u001b[43m[\u001b[49m\u001b[38;5;241;43m4\u001b[39;49m\u001b[43m]\u001b[49m)\n\u001b[1;32m     11\u001b[0m \u001b[38;5;66;03m# Uncommenting this print(Dict[4])\u001b[39;00m\n\u001b[1;32m     12\u001b[0m \u001b[38;5;66;03m# will raise a KeyError as the\u001b[39;00m\n\u001b[1;32m     13\u001b[0m \u001b[38;5;66;03m# 4 is not present in the dictionary\u001b[39;00m\n",
      "\u001b[0;31mKeyError\u001b[0m: 4"
     ]
    }
   ],
   "source": [
    "# Python program to demonstrate\n",
    "# dictionary\n",
    "  \n",
    "  \n",
    "Dict = {1: 'Geeks', 2: 'For', 3: 'Geeks'}\n",
    "print(\"Dictionary:\") \n",
    "print(Dict)\n",
    "print(Dict[4])\n",
    "\n",
    "  \n",
    "# Uncommenting this print(Dict[4])\n",
    "# will raise a KeyError as the\n",
    "# 4 is not present in the dictionary"
   ]
  },
  {
   "cell_type": "code",
   "execution_count": 17,
   "id": "ce1986dd",
   "metadata": {},
   "outputs": [],
   "source": [
    "from collections import defaultdict\n",
    "# default_factory: A function returning the default value \n",
    "# for the dictionary defined. If this argument is absent\n",
    "# then the dictionary raises a KeyError.\n",
    "d = defaultdict(list)"
   ]
  },
  {
   "cell_type": "code",
   "execution_count": 18,
   "id": "2cc66628",
   "metadata": {},
   "outputs": [],
   "source": [
    "d['miqueas'] = [1]"
   ]
  },
  {
   "cell_type": "code",
   "execution_count": 19,
   "id": "c8b0d7ce",
   "metadata": {},
   "outputs": [
    {
     "name": "stdout",
     "output_type": "stream",
     "text": [
      "[]\n",
      "[1]\n"
     ]
    }
   ],
   "source": [
    "print(d['talita'])\n",
    "print(d['miqueas'])"
   ]
  },
  {
   "cell_type": "code",
   "execution_count": 30,
   "id": "a0a147ee",
   "metadata": {},
   "outputs": [
    {
     "data": {
      "text/plain": [
       "[1]"
      ]
     },
     "execution_count": 30,
     "metadata": {},
     "output_type": "execute_result"
    }
   ],
   "source": [
    "d.get('miqueas')"
   ]
  },
  {
   "cell_type": "code",
   "execution_count": 31,
   "id": "d5fbd90f",
   "metadata": {},
   "outputs": [
    {
     "data": {
      "text/plain": [
       "defaultdict(set, {'miqueas': {20}})"
      ]
     },
     "execution_count": 31,
     "metadata": {},
     "output_type": "execute_result"
    }
   ],
   "source": [
    "d = defaultdict(set)\n",
    "d['miqueas'].add(20)\n",
    "d['miqueas'].add(20)\n",
    "d"
   ]
  },
  {
   "cell_type": "code",
   "execution_count": 32,
   "id": "eb85aa41",
   "metadata": {},
   "outputs": [
    {
     "data": {
      "text/plain": [
       "{20}"
      ]
     },
     "execution_count": 32,
     "metadata": {},
     "output_type": "execute_result"
    }
   ],
   "source": [
    "d.get('miqueas')"
   ]
  },
  {
   "cell_type": "code",
   "execution_count": 32,
   "id": "de86d76b",
   "metadata": {},
   "outputs": [
    {
     "data": {
      "text/plain": [
       "'a'"
      ]
     },
     "execution_count": 32,
     "metadata": {},
     "output_type": "execute_result"
    }
   ],
   "source": [
    "from collections import OrderedDict\n",
    "\n",
    "languagens_ordered = OrderedDict()"
   ]
  },
  {
   "cell_type": "code",
   "execution_count": 41,
   "id": "7e4f3567",
   "metadata": {},
   "outputs": [
    {
     "name": "stdout",
     "output_type": "stream",
     "text": [
      "Java Ordered - 10\n",
      "Python Ordered - 12\n",
      "C Ordered - 13\n",
      "NodeJs Ordered - 14\n",
      "java Normal - 30\n",
      "python Normal - 12\n",
      "C Normal - 13\n",
      "nodeJs Normal - 14\n",
      "nodeJs2 Normal - 14\n"
     ]
    }
   ],
   "source": [
    "languagens_ordered['Java'] = 10\n",
    "languagens_ordered['Python'] = 12\n",
    "languagens_ordered['C'] = 13\n",
    "languagens_ordered['NodeJs'] = 14\n",
    "languagens_normal = {}\n",
    "languagens_normal['java'] = 30\n",
    "languagens_normal['python'] = 12\n",
    "languagens_normal['C'] = 13\n",
    "languagens_normal['nodeJs'] = 14\n",
    "languagens_normal['nodeJs2'] = 14\n",
    "for key in languagens_ordered:\n",
    "    print(key, f'Ordered - {languagens_ordered[key]}')\n",
    "for key in languagens_normal:\n",
    "    print(key,f'Normal - {languagens_normal[key]}')"
   ]
  },
  {
   "cell_type": "code",
   "execution_count": 42,
   "id": "c8c12b1a",
   "metadata": {},
   "outputs": [
    {
     "name": "stdout",
     "output_type": "stream",
     "text": [
      "{'java': 30, 'python': 12, 'C': 13, 'nodeJs': 14, 'nodeJs2': 14}\n",
      "OrderedDict([('Java', 10), ('Python', 12), ('C', 13), ('NodeJs', 14)])\n"
     ]
    }
   ],
   "source": [
    "print(languagens_normal)\n",
    "print(languagens_ordered)"
   ]
  },
  {
   "cell_type": "code",
   "execution_count": null,
   "id": "5b58d164",
   "metadata": {},
   "outputs": [],
   "source": []
  }
 ],
 "metadata": {
  "kernelspec": {
   "display_name": "Python 3 (ipykernel)",
   "language": "python",
   "name": "python3"
  },
  "language_info": {
   "codemirror_mode": {
    "name": "ipython",
    "version": 3
   },
   "file_extension": ".py",
   "mimetype": "text/x-python",
   "name": "python",
   "nbconvert_exporter": "python",
   "pygments_lexer": "ipython3",
   "version": "3.10.6"
  }
 },
 "nbformat": 4,
 "nbformat_minor": 5
}
